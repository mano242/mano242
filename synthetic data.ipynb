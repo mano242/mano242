{
 "cells": [
  {
   "cell_type": "code",
   "execution_count": 1,
   "id": "f1cb5089-af75-4333-ad13-87bf9f9d70bf",
   "metadata": {},
   "outputs": [
    {
     "name": "stdout",
     "output_type": "stream",
     "text": [
      "Collecting faker\n",
      "  Downloading Faker-24.3.0-py3-none-any.whl.metadata (15 kB)\n",
      "Requirement already satisfied: python-dateutil>=2.4 in c:\\users\\hp\\mano\\lib\\site-packages (from faker) (2.9.0.post0)\n",
      "Requirement already satisfied: six>=1.5 in c:\\users\\hp\\mano\\lib\\site-packages (from python-dateutil>=2.4->faker) (1.16.0)\n",
      "Downloading Faker-24.3.0-py3-none-any.whl (1.8 MB)\n",
      "   ---------------------------------------- 0.0/1.8 MB ? eta -:--:--\n",
      "   - -------------------------------------- 0.1/1.8 MB 2.0 MB/s eta 0:00:01\n",
      "   --- ------------------------------------ 0.2/1.8 MB 1.8 MB/s eta 0:00:01\n",
      "   ----- ---------------------------------- 0.2/1.8 MB 2.0 MB/s eta 0:00:01\n",
      "   ------- -------------------------------- 0.3/1.8 MB 2.0 MB/s eta 0:00:01\n",
      "   ---------- ----------------------------- 0.5/1.8 MB 2.2 MB/s eta 0:00:01\n",
      "   ------------ --------------------------- 0.6/1.8 MB 2.2 MB/s eta 0:00:01\n",
      "   ----------------- ---------------------- 0.8/1.8 MB 2.5 MB/s eta 0:00:01\n",
      "   ---------------------- ----------------- 1.0/1.8 MB 2.8 MB/s eta 0:00:01\n",
      "   ------------------------- -------------- 1.1/1.8 MB 2.9 MB/s eta 0:00:01\n",
      "   ---------------------------- ----------- 1.2/1.8 MB 2.9 MB/s eta 0:00:01\n",
      "   --------------------------------- ------ 1.5/1.8 MB 2.9 MB/s eta 0:00:01\n",
      "   ------------------------------------ --- 1.6/1.8 MB 2.9 MB/s eta 0:00:01\n",
      "   ---------------------------------------  1.7/1.8 MB 2.9 MB/s eta 0:00:01\n",
      "   ---------------------------------------- 1.8/1.8 MB 2.8 MB/s eta 0:00:00\n",
      "Installing collected packages: faker\n",
      "Successfully installed faker-24.3.0\n"
     ]
    }
   ],
   "source": [
    "!pip install faker"
   ]
  },
  {
   "cell_type": "code",
   "execution_count": 2,
   "id": "b15118cf-5b8b-4494-8f88-5999faea722a",
   "metadata": {},
   "outputs": [],
   "source": [
    "from faker import Faker"
   ]
  },
  {
   "cell_type": "code",
   "execution_count": 3,
   "id": "2266c433-e206-45da-a4dd-fa554538668d",
   "metadata": {},
   "outputs": [],
   "source": [
    "fake =Faker()"
   ]
  },
  {
   "cell_type": "code",
   "execution_count": 4,
   "id": "8fbcf55c-8276-4327-ac6e-67534728b1a1",
   "metadata": {},
   "outputs": [
    {
     "data": {
      "text/plain": [
       "'Kelly Miller'"
      ]
     },
     "execution_count": 4,
     "metadata": {},
     "output_type": "execute_result"
    }
   ],
   "source": [
    "fake.name()\n"
   ]
  },
  {
   "cell_type": "code",
   "execution_count": 5,
   "id": "1ff26615-0bd5-4aec-b4d2-0f2454ea1114",
   "metadata": {},
   "outputs": [
    {
     "name": "stdout",
     "output_type": "stream",
     "text": [
      "Requirement already satisfied: pandas in c:\\users\\hp\\mano\\lib\\site-packages (2.2.1)\n",
      "Requirement already satisfied: numpy<2,>=1.23.2 in c:\\users\\hp\\mano\\lib\\site-packages (from pandas) (1.25.1)\n",
      "Requirement already satisfied: python-dateutil>=2.8.2 in c:\\users\\hp\\mano\\lib\\site-packages (from pandas) (2.9.0.post0)\n",
      "Requirement already satisfied: pytz>=2020.1 in c:\\users\\hp\\mano\\lib\\site-packages (from pandas) (2024.1)\n",
      "Requirement already satisfied: tzdata>=2022.7 in c:\\users\\hp\\mano\\lib\\site-packages (from pandas) (2024.1)\n",
      "Requirement already satisfied: six>=1.5 in c:\\users\\hp\\mano\\lib\\site-packages (from python-dateutil>=2.8.2->pandas) (1.16.0)\n"
     ]
    }
   ],
   "source": [
    "!pip install pandas"
   ]
  },
  {
   "cell_type": "code",
   "execution_count": 6,
   "id": "3e14a7c9-f1cc-4443-b0e4-67225b708adf",
   "metadata": {},
   "outputs": [
    {
     "name": "stdout",
     "output_type": "stream",
     "text": [
      "Requirement already satisfied: numpy in c:\\users\\hp\\mano\\lib\\site-packages (1.25.1)\n"
     ]
    }
   ],
   "source": [
    "!pip install numpy"
   ]
  },
  {
   "cell_type": "code",
   "execution_count": 7,
   "id": "7dda180d-5379-482d-91c7-0d32da2a7e1d",
   "metadata": {},
   "outputs": [],
   "source": [
    "import pandas as pd"
   ]
  },
  {
   "cell_type": "code",
   "execution_count": 12,
   "id": "e647e10e-971e-4739-b498-dc63269eae88",
   "metadata": {},
   "outputs": [
    {
     "data": {
      "text/html": [
       "<div>\n",
       "<style scoped>\n",
       "    .dataframe tbody tr th:only-of-type {\n",
       "        vertical-align: middle;\n",
       "    }\n",
       "\n",
       "    .dataframe tbody tr th {\n",
       "        vertical-align: top;\n",
       "    }\n",
       "\n",
       "    .dataframe thead th {\n",
       "        text-align: right;\n",
       "    }\n",
       "</style>\n",
       "<table border=\"1\" class=\"dataframe\">\n",
       "  <thead>\n",
       "    <tr style=\"text-align: right;\">\n",
       "      <th></th>\n",
       "      <th>name</th>\n",
       "      <th>address</th>\n",
       "      <th>birthday</th>\n",
       "      <th>email</th>\n",
       "    </tr>\n",
       "  </thead>\n",
       "  <tbody>\n",
       "    <tr>\n",
       "      <th>0</th>\n",
       "      <td>Jeremy Williams</td>\n",
       "      <td>8802 Shane Fords Apt. 060\\nSouth Brianna, GA 1...</td>\n",
       "      <td>1917-03-21</td>\n",
       "      <td>fglover@example.net</td>\n",
       "    </tr>\n",
       "    <tr>\n",
       "      <th>1</th>\n",
       "      <td>Richard Chen</td>\n",
       "      <td>717 Jerry Land Apt. 491\\nValentineland, ME 03380</td>\n",
       "      <td>2000-03-18</td>\n",
       "      <td>ericdavis@example.org</td>\n",
       "    </tr>\n",
       "    <tr>\n",
       "      <th>2</th>\n",
       "      <td>Dennis White</td>\n",
       "      <td>19296 Sean Street\\nErictown, NE 56514</td>\n",
       "      <td>1958-10-16</td>\n",
       "      <td>susanjacobson@example.net</td>\n",
       "    </tr>\n",
       "    <tr>\n",
       "      <th>3</th>\n",
       "      <td>Eric Duffy</td>\n",
       "      <td>622 Anderson Ridges\\nKimberlybury, FM 56392</td>\n",
       "      <td>1928-05-12</td>\n",
       "      <td>russell57@example.org</td>\n",
       "    </tr>\n",
       "    <tr>\n",
       "      <th>4</th>\n",
       "      <td>Joel Mejia</td>\n",
       "      <td>271 Little Forges\\nLake Jamesmouth, KS 13954</td>\n",
       "      <td>1925-03-28</td>\n",
       "      <td>lowekaren@example.org</td>\n",
       "    </tr>\n",
       "  </tbody>\n",
       "</table>\n",
       "</div>"
      ],
      "text/plain": [
       "              name                                            address  \\\n",
       "0  Jeremy Williams  8802 Shane Fords Apt. 060\\nSouth Brianna, GA 1...   \n",
       "1     Richard Chen   717 Jerry Land Apt. 491\\nValentineland, ME 03380   \n",
       "2     Dennis White              19296 Sean Street\\nErictown, NE 56514   \n",
       "3       Eric Duffy        622 Anderson Ridges\\nKimberlybury, FM 56392   \n",
       "4       Joel Mejia       271 Little Forges\\nLake Jamesmouth, KS 13954   \n",
       "\n",
       "     birthday                      email  \n",
       "0  1917-03-21        fglover@example.net  \n",
       "1  2000-03-18      ericdavis@example.org  \n",
       "2  1958-10-16  susanjacobson@example.net  \n",
       "3  1928-05-12      russell57@example.org  \n",
       "4  1925-03-28      lowekaren@example.org  "
      ]
     },
     "execution_count": 12,
     "metadata": {},
     "output_type": "execute_result"
    }
   ],
   "source": [
    "df = pd.DataFrame(\n",
    "    [\n",
    "\n",
    "        {\n",
    "            \"name\":fake.name(),\n",
    "            \"address\":fake.address(),\n",
    "            \"birthday\":fake.date_of_birth(),\n",
    "            \"email\":fake.email(),\n",
    "        }\n",
    "    for  _ in range(100)\n",
    "    ]\n",
    "\n",
    "\n",
    ")\n",
    "df.head()"
   ]
  },
  {
   "cell_type": "code",
   "execution_count": 13,
   "id": "2e8fa09b-8635-425f-95e5-64380f16e441",
   "metadata": {},
   "outputs": [],
   "source": [
    "from faker import Faker\n",
    "import pandas as pd\n",
    "import random\n"
   ]
  },
  {
   "cell_type": "code",
   "execution_count": 14,
   "id": "1ce70778-6449-4dcb-a05f-4a30600a45dc",
   "metadata": {},
   "outputs": [],
   "source": [
    "fake = Faker()"
   ]
  },
  {
   "cell_type": "code",
   "execution_count": 15,
   "id": "02fc8b2c-9e85-490d-8595-d30fd88a36d8",
   "metadata": {},
   "outputs": [],
   "source": [
    "def generate_vehicle_data(num_vehicles=10):\n",
    "    data = []\n",
    "    for _ in range(num_vehicles):\n",
    "        vehicle_number = fake.license_plate()\n",
    "        start_latitude = round(random.uniform(-90, 90), 6)\n",
    "        start_longitude = round(random.uniform(-180, 180), 6)\n",
    "        end_latitude = round(random.uniform(-90, 90), 6)\n",
    "        end_longitude = round(random.uniform(-180, 180), 6)\n",
    "        data.append({\n",
    "            'Vehicle Number': vehicle_number,\n",
    "            'Start Latitude': start_latitude,\n",
    "            'Start Longitude': start_longitude,\n",
    "            'End Latitude': end_latitude,\n",
    "            'End Longitude': end_longitude\n",
    "        })\n",
    "    return data"
   ]
  },
  {
   "cell_type": "code",
   "execution_count": 16,
   "id": "96389393-c866-403c-b07e-802d76b6097a",
   "metadata": {},
   "outputs": [],
   "source": [
    "vehicle_data = generate_vehicle_data(10)"
   ]
  },
  {
   "cell_type": "code",
   "execution_count": 17,
   "id": "c9a87c92-2473-4354-84b7-506e4f1e77f1",
   "metadata": {},
   "outputs": [],
   "source": [
    "vehicle_df = pd.DataFrame(vehicle_data)"
   ]
  },
  {
   "cell_type": "code",
   "execution_count": 18,
   "id": "316d719f-18f9-48c7-840c-4c01ff27c5ac",
   "metadata": {},
   "outputs": [
    {
     "data": {
      "text/html": [
       "<div>\n",
       "<style scoped>\n",
       "    .dataframe tbody tr th:only-of-type {\n",
       "        vertical-align: middle;\n",
       "    }\n",
       "\n",
       "    .dataframe tbody tr th {\n",
       "        vertical-align: top;\n",
       "    }\n",
       "\n",
       "    .dataframe thead th {\n",
       "        text-align: right;\n",
       "    }\n",
       "</style>\n",
       "<table border=\"1\" class=\"dataframe\">\n",
       "  <thead>\n",
       "    <tr style=\"text-align: right;\">\n",
       "      <th></th>\n",
       "      <th>Vehicle Number</th>\n",
       "      <th>Start Latitude</th>\n",
       "      <th>Start Longitude</th>\n",
       "      <th>End Latitude</th>\n",
       "      <th>End Longitude</th>\n",
       "    </tr>\n",
       "  </thead>\n",
       "  <tbody>\n",
       "    <tr>\n",
       "      <th>0</th>\n",
       "      <td>313-WXM</td>\n",
       "      <td>33.640709</td>\n",
       "      <td>88.122247</td>\n",
       "      <td>19.416862</td>\n",
       "      <td>-127.813694</td>\n",
       "    </tr>\n",
       "    <tr>\n",
       "      <th>1</th>\n",
       "      <td>43-AS54</td>\n",
       "      <td>9.572589</td>\n",
       "      <td>-166.201851</td>\n",
       "      <td>32.892984</td>\n",
       "      <td>163.997804</td>\n",
       "    </tr>\n",
       "    <tr>\n",
       "      <th>2</th>\n",
       "      <td>83W•828</td>\n",
       "      <td>20.402936</td>\n",
       "      <td>-108.877516</td>\n",
       "      <td>59.647387</td>\n",
       "      <td>140.046891</td>\n",
       "    </tr>\n",
       "    <tr>\n",
       "      <th>3</th>\n",
       "      <td>XEN 624</td>\n",
       "      <td>-17.904651</td>\n",
       "      <td>5.865907</td>\n",
       "      <td>-77.398874</td>\n",
       "      <td>-150.695934</td>\n",
       "    </tr>\n",
       "    <tr>\n",
       "      <th>4</th>\n",
       "      <td>861 GSP</td>\n",
       "      <td>-47.006296</td>\n",
       "      <td>-157.439815</td>\n",
       "      <td>8.794944</td>\n",
       "      <td>-82.329316</td>\n",
       "    </tr>\n",
       "    <tr>\n",
       "      <th>5</th>\n",
       "      <td>687 HVE</td>\n",
       "      <td>-76.507920</td>\n",
       "      <td>101.290995</td>\n",
       "      <td>-75.669781</td>\n",
       "      <td>115.722773</td>\n",
       "    </tr>\n",
       "    <tr>\n",
       "      <th>6</th>\n",
       "      <td>087-EXJ</td>\n",
       "      <td>80.989393</td>\n",
       "      <td>136.863614</td>\n",
       "      <td>-31.966829</td>\n",
       "      <td>-128.151209</td>\n",
       "    </tr>\n",
       "    <tr>\n",
       "      <th>7</th>\n",
       "      <td>1NM 272</td>\n",
       "      <td>-87.342507</td>\n",
       "      <td>170.483535</td>\n",
       "      <td>-15.089917</td>\n",
       "      <td>38.093077</td>\n",
       "    </tr>\n",
       "    <tr>\n",
       "      <th>8</th>\n",
       "      <td>9I370</td>\n",
       "      <td>11.559257</td>\n",
       "      <td>-98.088353</td>\n",
       "      <td>-18.765978</td>\n",
       "      <td>-140.709490</td>\n",
       "    </tr>\n",
       "    <tr>\n",
       "      <th>9</th>\n",
       "      <td>448 TT0</td>\n",
       "      <td>-45.365869</td>\n",
       "      <td>102.796581</td>\n",
       "      <td>-48.930491</td>\n",
       "      <td>-124.734275</td>\n",
       "    </tr>\n",
       "  </tbody>\n",
       "</table>\n",
       "</div>"
      ],
      "text/plain": [
       "  Vehicle Number  Start Latitude  Start Longitude  End Latitude  End Longitude\n",
       "0        313-WXM       33.640709        88.122247     19.416862    -127.813694\n",
       "1        43-AS54        9.572589      -166.201851     32.892984     163.997804\n",
       "2        83W•828       20.402936      -108.877516     59.647387     140.046891\n",
       "3        XEN 624      -17.904651         5.865907    -77.398874    -150.695934\n",
       "4        861 GSP      -47.006296      -157.439815      8.794944     -82.329316\n",
       "5        687 HVE      -76.507920       101.290995    -75.669781     115.722773\n",
       "6        087-EXJ       80.989393       136.863614    -31.966829    -128.151209\n",
       "7        1NM 272      -87.342507       170.483535    -15.089917      38.093077\n",
       "8          9I370       11.559257       -98.088353    -18.765978    -140.709490\n",
       "9        448 TT0      -45.365869       102.796581    -48.930491    -124.734275"
      ]
     },
     "execution_count": 18,
     "metadata": {},
     "output_type": "execute_result"
    }
   ],
   "source": [
    "vehicle_df"
   ]
  },
  {
   "cell_type": "code",
   "execution_count": null,
   "id": "a0850aa5-2c47-40e8-9382-83a65b2d2106",
   "metadata": {},
   "outputs": [],
   "source": []
  }
 ],
 "metadata": {
  "kernelspec": {
   "display_name": "Python 3 (ipykernel)",
   "language": "python",
   "name": "python3"
  },
  "language_info": {
   "codemirror_mode": {
    "name": "ipython",
    "version": 3
   },
   "file_extension": ".py",
   "mimetype": "text/x-python",
   "name": "python",
   "nbconvert_exporter": "python",
   "pygments_lexer": "ipython3",
   "version": "3.11.4"
  }
 },
 "nbformat": 4,
 "nbformat_minor": 5
}
